{
 "cells": [
  {
   "cell_type": "code",
   "execution_count": 8,
   "metadata": {},
   "outputs": [],
   "source": [
    "from models import *\n",
    "from flask import jsonify"
   ]
  },
  {
   "cell_type": "code",
   "execution_count": 4,
   "metadata": {},
   "outputs": [],
   "source": [
    "a = Recipe.query.all()[0].get_json()"
   ]
  },
  {
   "cell_type": "code",
   "execution_count": 7,
   "metadata": {},
   "outputs": [
    {
     "data": {
      "text/plain": [
       "['JSONDecodeError',\n",
       " 'JSONDecoder',\n",
       " 'JSONEncoder',\n",
       " '__all__',\n",
       " '__author__',\n",
       " '__builtins__',\n",
       " '__cached__',\n",
       " '__doc__',\n",
       " '__file__',\n",
       " '__loader__',\n",
       " '__name__',\n",
       " '__package__',\n",
       " '__path__',\n",
       " '__spec__',\n",
       " '__version__',\n",
       " '_default_decoder',\n",
       " '_default_encoder',\n",
       " 'codecs',\n",
       " 'decoder',\n",
       " 'detect_encoding',\n",
       " 'dump',\n",
       " 'dumps',\n",
       " 'encoder',\n",
       " 'load',\n",
       " 'loads',\n",
       " 'scanner']"
      ]
     },
     "execution_count": 7,
     "metadata": {},
     "output_type": "execute_result"
    }
   ],
   "source": [
    "dir(json)"
   ]
  },
  {
   "cell_type": "code",
   "execution_count": 14,
   "metadata": {},
   "outputs": [
    {
     "data": {
      "text/plain": [
       "flask.app.Flask"
      ]
     },
     "execution_count": 14,
     "metadata": {},
     "output_type": "execute_result"
    }
   ],
   "source": [
    "type(app)"
   ]
  },
  {
   "cell_type": "code",
   "execution_count": null,
   "metadata": {},
   "outputs": [],
   "source": []
  },
  {
   "cell_type": "code",
   "execution_count": null,
   "metadata": {},
   "outputs": [],
   "source": []
  },
  {
   "cell_type": "code",
   "execution_count": 10,
   "metadata": {},
   "outputs": [
    {
     "ename": "RuntimeError",
     "evalue": "Working outside of application context.\n\nThis typically means that you attempted to use functionality that needed\nto interface with the current application object in some way. To solve\nthis, set up an application context with app.app_context().  See the\ndocumentation for more information.",
     "output_type": "error",
     "traceback": [
      "\u001b[0;31m---------------------------------------------------------------------------\u001b[0m",
      "\u001b[0;31mRuntimeError\u001b[0m                              Traceback (most recent call last)",
      "\u001b[0;32m<ipython-input-10-1eab95382daf>\u001b[0m in \u001b[0;36m<module>\u001b[0;34m\u001b[0m\n\u001b[0;32m----> 1\u001b[0;31m \u001b[0mjsonify\u001b[0m\u001b[0;34m(\u001b[0m\u001b[0ma\u001b[0m\u001b[0;34m)\u001b[0m\u001b[0;34m\u001b[0m\u001b[0;34m\u001b[0m\u001b[0m\n\u001b[0m",
      "\u001b[0;32m~/db_project/flaskapi/myvenv/lib/python3.7/site-packages/flask/json/__init__.py\u001b[0m in \u001b[0;36mjsonify\u001b[0;34m(*args, **kwargs)\u001b[0m\n\u001b[1;32m    307\u001b[0m     \u001b[0mseparators\u001b[0m \u001b[0;34m=\u001b[0m \u001b[0;34m(\u001b[0m\u001b[0;34m','\u001b[0m\u001b[0;34m,\u001b[0m \u001b[0;34m':'\u001b[0m\u001b[0;34m)\u001b[0m\u001b[0;34m\u001b[0m\u001b[0;34m\u001b[0m\u001b[0m\n\u001b[1;32m    308\u001b[0m \u001b[0;34m\u001b[0m\u001b[0m\n\u001b[0;32m--> 309\u001b[0;31m     \u001b[0;32mif\u001b[0m \u001b[0mcurrent_app\u001b[0m\u001b[0;34m.\u001b[0m\u001b[0mconfig\u001b[0m\u001b[0;34m[\u001b[0m\u001b[0;34m'JSONIFY_PRETTYPRINT_REGULAR'\u001b[0m\u001b[0;34m]\u001b[0m \u001b[0;32mor\u001b[0m \u001b[0mcurrent_app\u001b[0m\u001b[0;34m.\u001b[0m\u001b[0mdebug\u001b[0m\u001b[0;34m:\u001b[0m\u001b[0;34m\u001b[0m\u001b[0;34m\u001b[0m\u001b[0m\n\u001b[0m\u001b[1;32m    310\u001b[0m         \u001b[0mindent\u001b[0m \u001b[0;34m=\u001b[0m \u001b[0;36m2\u001b[0m\u001b[0;34m\u001b[0m\u001b[0;34m\u001b[0m\u001b[0m\n\u001b[1;32m    311\u001b[0m         \u001b[0mseparators\u001b[0m \u001b[0;34m=\u001b[0m \u001b[0;34m(\u001b[0m\u001b[0;34m', '\u001b[0m\u001b[0;34m,\u001b[0m \u001b[0;34m': '\u001b[0m\u001b[0;34m)\u001b[0m\u001b[0;34m\u001b[0m\u001b[0;34m\u001b[0m\u001b[0m\n",
      "\u001b[0;32m~/db_project/flaskapi/myvenv/lib/python3.7/site-packages/werkzeug/local.py\u001b[0m in \u001b[0;36m__getattr__\u001b[0;34m(self, name)\u001b[0m\n\u001b[1;32m    345\u001b[0m         \u001b[0;32mif\u001b[0m \u001b[0mname\u001b[0m \u001b[0;34m==\u001b[0m \u001b[0;34m'__members__'\u001b[0m\u001b[0;34m:\u001b[0m\u001b[0;34m\u001b[0m\u001b[0;34m\u001b[0m\u001b[0m\n\u001b[1;32m    346\u001b[0m             \u001b[0;32mreturn\u001b[0m \u001b[0mdir\u001b[0m\u001b[0;34m(\u001b[0m\u001b[0mself\u001b[0m\u001b[0;34m.\u001b[0m\u001b[0m_get_current_object\u001b[0m\u001b[0;34m(\u001b[0m\u001b[0;34m)\u001b[0m\u001b[0;34m)\u001b[0m\u001b[0;34m\u001b[0m\u001b[0;34m\u001b[0m\u001b[0m\n\u001b[0;32m--> 347\u001b[0;31m         \u001b[0;32mreturn\u001b[0m \u001b[0mgetattr\u001b[0m\u001b[0;34m(\u001b[0m\u001b[0mself\u001b[0m\u001b[0;34m.\u001b[0m\u001b[0m_get_current_object\u001b[0m\u001b[0;34m(\u001b[0m\u001b[0;34m)\u001b[0m\u001b[0;34m,\u001b[0m \u001b[0mname\u001b[0m\u001b[0;34m)\u001b[0m\u001b[0;34m\u001b[0m\u001b[0;34m\u001b[0m\u001b[0m\n\u001b[0m\u001b[1;32m    348\u001b[0m \u001b[0;34m\u001b[0m\u001b[0m\n\u001b[1;32m    349\u001b[0m     \u001b[0;32mdef\u001b[0m \u001b[0m__setitem__\u001b[0m\u001b[0;34m(\u001b[0m\u001b[0mself\u001b[0m\u001b[0;34m,\u001b[0m \u001b[0mkey\u001b[0m\u001b[0;34m,\u001b[0m \u001b[0mvalue\u001b[0m\u001b[0;34m)\u001b[0m\u001b[0;34m:\u001b[0m\u001b[0;34m\u001b[0m\u001b[0;34m\u001b[0m\u001b[0m\n",
      "\u001b[0;32m~/db_project/flaskapi/myvenv/lib/python3.7/site-packages/werkzeug/local.py\u001b[0m in \u001b[0;36m_get_current_object\u001b[0;34m(self)\u001b[0m\n\u001b[1;32m    304\u001b[0m         \"\"\"\n\u001b[1;32m    305\u001b[0m         \u001b[0;32mif\u001b[0m \u001b[0;32mnot\u001b[0m \u001b[0mhasattr\u001b[0m\u001b[0;34m(\u001b[0m\u001b[0mself\u001b[0m\u001b[0;34m.\u001b[0m\u001b[0m__local\u001b[0m\u001b[0;34m,\u001b[0m \u001b[0;34m'__release_local__'\u001b[0m\u001b[0;34m)\u001b[0m\u001b[0;34m:\u001b[0m\u001b[0;34m\u001b[0m\u001b[0;34m\u001b[0m\u001b[0m\n\u001b[0;32m--> 306\u001b[0;31m             \u001b[0;32mreturn\u001b[0m \u001b[0mself\u001b[0m\u001b[0;34m.\u001b[0m\u001b[0m__local\u001b[0m\u001b[0;34m(\u001b[0m\u001b[0;34m)\u001b[0m\u001b[0;34m\u001b[0m\u001b[0;34m\u001b[0m\u001b[0m\n\u001b[0m\u001b[1;32m    307\u001b[0m         \u001b[0;32mtry\u001b[0m\u001b[0;34m:\u001b[0m\u001b[0;34m\u001b[0m\u001b[0;34m\u001b[0m\u001b[0m\n\u001b[1;32m    308\u001b[0m             \u001b[0;32mreturn\u001b[0m \u001b[0mgetattr\u001b[0m\u001b[0;34m(\u001b[0m\u001b[0mself\u001b[0m\u001b[0;34m.\u001b[0m\u001b[0m__local\u001b[0m\u001b[0;34m,\u001b[0m \u001b[0mself\u001b[0m\u001b[0;34m.\u001b[0m\u001b[0m__name__\u001b[0m\u001b[0;34m)\u001b[0m\u001b[0;34m\u001b[0m\u001b[0;34m\u001b[0m\u001b[0m\n",
      "\u001b[0;32m~/db_project/flaskapi/myvenv/lib/python3.7/site-packages/flask/globals.py\u001b[0m in \u001b[0;36m_find_app\u001b[0;34m()\u001b[0m\n\u001b[1;32m     49\u001b[0m     \u001b[0mtop\u001b[0m \u001b[0;34m=\u001b[0m \u001b[0m_app_ctx_stack\u001b[0m\u001b[0;34m.\u001b[0m\u001b[0mtop\u001b[0m\u001b[0;34m\u001b[0m\u001b[0;34m\u001b[0m\u001b[0m\n\u001b[1;32m     50\u001b[0m     \u001b[0;32mif\u001b[0m \u001b[0mtop\u001b[0m \u001b[0;32mis\u001b[0m \u001b[0;32mNone\u001b[0m\u001b[0;34m:\u001b[0m\u001b[0;34m\u001b[0m\u001b[0;34m\u001b[0m\u001b[0m\n\u001b[0;32m---> 51\u001b[0;31m         \u001b[0;32mraise\u001b[0m \u001b[0mRuntimeError\u001b[0m\u001b[0;34m(\u001b[0m\u001b[0m_app_ctx_err_msg\u001b[0m\u001b[0;34m)\u001b[0m\u001b[0;34m\u001b[0m\u001b[0;34m\u001b[0m\u001b[0m\n\u001b[0m\u001b[1;32m     52\u001b[0m     \u001b[0;32mreturn\u001b[0m \u001b[0mtop\u001b[0m\u001b[0;34m.\u001b[0m\u001b[0mapp\u001b[0m\u001b[0;34m\u001b[0m\u001b[0;34m\u001b[0m\u001b[0m\n\u001b[1;32m     53\u001b[0m \u001b[0;34m\u001b[0m\u001b[0m\n",
      "\u001b[0;31mRuntimeError\u001b[0m: Working outside of application context.\n\nThis typically means that you attempted to use functionality that needed\nto interface with the current application object in some way. To solve\nthis, set up an application context with app.app_context().  See the\ndocumentation for more information."
     ]
    }
   ],
   "source": [
    "jsonify(a)"
   ]
  },
  {
   "cell_type": "code",
   "execution_count": 11,
   "metadata": {},
   "outputs": [
    {
     "data": {
      "text/plain": [
       "'{\"id\": 1933, \"title\": \"John Besh\\'s Louisiana Speckled Trout Amandine\", \"instructions\": \"Preheat oven to 350 F.To a cast iron or heavy bottomed pan over medium heat, add 1/2 inch olive oil.Season trout fillets with salt, pepper, and Creole seasoning. Dredge trout in flour and shake off excess. Then place trout in buttermilk, and again in flour; shake off excess. Place fish in pan with hot oil and cook on both sides until completely brown, about 5-7 minutes per side. If trout are thick and not completely cooked throughout, finish them in preheated oven, cooking for a few minutes.To another saut pan over medium-high heat, add butter. When butter has completely melted and begins to brown slightly on the sides, add almonds, lemon juice, and parsley. Continue to move butter around in pan until almonds have browned, about 3-4 minutes. Season sauce with salt and remove from heat.Place each trout fillet on a plate and spoon amandine sauce liberally over top.* Chef Besh recommends Paul Prudhomme\\'s or Zatarain\\'s Seasonings.\", \"vegetarian\": false, \"glutenFree\": false, \"dairyFree\": false, \"sourceUrl\": \"http://www.thekitchn.com/new-orleans-roundup-john-beshs-48567\", \"pricePerServing\": 501.3, \"readyInMinutes\": 23, \"servings\": 6.0, \"image\": \"https://spoonacular.com/recipeImages/1933-556x370.jpg\", \"nutrition\": {\"Protein\": 191.2331644, \"Total lipid (fat)\": 313.518226, \"Carbohydrate, by difference\": 412.71135700000013, \"Ash\": 21.356548600000004, \"Energy\": 26955.088440000003, \"Alcohol, ethyl\": 0.0, \"Water\": 863.8027274000001, \"Caffeine\": 0.0, \"Theobromine\": 0.0, \"Sugars, total\": 31.141069, \"Fiber, total dietary\": 27.498458000000003, \"Calcium, Ca\": 1177.39576, \"Iron, Fe\": 34.25128, \"Magnesium, Mg\": 595.5880000000001, \"Phosphorus, P\": 2733.64694, \"Potassium, K\": 3928.6705000000006, \"Sodium, Na\": 3132.19686, \"Zinc, Zn\": 12.275001800000004, \"Copper, Cu\": 2.9906808999999996, \"Manganese, Mn\": 9.68408578, \"Selenium, Se\": 244.733064, \"Vitamin A, IU\": 11702.367100000001, \"Retinol\": 1885.7464400000001, \"Vitamin A, RAE\": 2157.8186400000004, \"Carotene, beta\": 2918.7651200000005, \"Carotene, alpha\": 0.0, \"Vitamin E (alpha-tocopherol)\": 39.19977540000001, \"Vitamin D\": 980.75152, \"Vitamin D3 (cholecalciferol)\": 24.637288, \"Vitamin D (D2 + D3)\": 24.637288, \"Cryptoxanthin, beta\": 662.752, \"Lycopene\": 0.0, \"Lutein + zeaxanthin\": 1692.46462, \"Vitamin C, total ascorbic acid\": 15.909400000000002, \"Thiamin\": 5.871871260000001, \"Riboflavin\": 5.73835042, \"Niacin\": 54.9049364, \"Pantothenic acid\": 13.71437964, \"Vitamin B-6\": 1.73325654, \"Folate, total\": 1033.46458, \"Vitamin B-12\": 39.50340920000001, \"Choline, total\": 538.5181180000001, \"Vitamin K (phylloquinone)\": 94.318016, \"Folic acid\": 728.69104, \"Folate, food\": 304.77354, \"Folate, DFE\": 1544.4946600000003, \"Tryptophan\": 2.1577636600000005, \"Threonine\": 7.197320200000001, \"Isoleucine\": 7.9593606, \"Leucine\": 14.75281294, \"Lysine\": 12.27193538, \"Methionine\": 4.454518, \"Cystine\": 2.5433246400000002, \"Phenylalanine\": 8.560117080000001, \"Tyrosine\": 6.29621834, \"Valine\": 9.122807860000002, \"Arginine\": 11.315504140000002, \"Histidine\": 5.205191, \"Alanine\": 9.3026555, \"Aspartic acid\": 16.85838586, \"Glutamic acid\": 41.15636628, \"Glycine\": 8.58057676, \"Proline\": 12.00323906, \"Serine\": 8.6807316, \"Vitamin E, added\": 0.0, \"Vitamin B-12, added\": 0.0, \"Cholesterol\": 835.6335600000001, \"Fatty acids, total saturated\": 140.47182818000002, \"4:0\": 7.99194264, \"6:0\": 5.107934920000001, \"8:0\": 3.17501096, \"10:0\": 6.346304280000001, \"12:0\": 6.492798840000001, \"14:0\": 19.9084392, \"16:0\": 64.6921389, \"18:0\": 27.105039440000002, \"20:0\": 0.35133144000000005, \"18:1 undifferentiated\": 103.13821886, \"18:2 undifferentiated\": 23.620976380000002, \"18:3 undifferentiated\": 4.11089664, \"20:4 undifferentiated\": 0.8958600000000001, \"22:6 n-3 (DHA)\": 2.50272, \"22:0\": 0.00774, \"14:1\": 2e-05, \"16:1 undifferentiated\": 8.01714002, \"18:4\": 0.30336, \"20:1\": 1.582448, \"20:5 n-3 (EPA)\": 0.9574800000000001, \"22:1 undifferentiated\": 3.9342, \"22:5 n-3 (DPA)\": 0.86742, \"Fatty acids, total monounsaturated\": 119.38972713999999, \"Fatty acids, total polyunsaturated\": 33.27178808000001, \"15:0\": 1e-05, \"17:0\": 1.3427739600000002, \"24:0\": 0.0, \"13:0\": 0.0, \"Starch\": 1.18294, \"Sucrose\": 5.2802124, \"Glucose (dextrose)\": 0.045388200000000004, \"Fructose\": 0.011000000000000001, \"Lactose\": 0.0, \"Maltose\": 0.16561160000000003, \"Galactose\": 0.0, \"Tocopherol, beta\": 0.7518522000000002, \"Tocopherol, gamma\": 2.6487492, \"Tocopherol, delta\": 0.33122320000000005, \"Fatty acids, total trans\": 0.02247586, \"Phytosterols\": 157.10316, \"Stigmasterol\": 1.18294, \"Campesterol\": 4.73176, \"Beta-sitosterol\": 138.40398, \"24:1 c\": 0.0, \"20:2 n-6 c,c\": 0.0, \"17:1\": 0.07729346000000001, \"20:3 undifferentiated\": 0.0, \"15:1\": 0.0, \"Tocotrienol, alpha\": 0.09463520000000002, \"Tocotrienol, beta\": 0.4258584, \"Tocotrienol, gamma\": 0.0, \"Tocotrienol, delta\": 0.0, \"Betaine\": 332.648728, \"16:1 t\": 0.0, \"18:1 t\": 7.055054160000001, \"22:1 t\": 0.0, \"18:2 t not further defined\": 0.0, \"18:2 CLAs\": 0.6316899600000001, \"16:1 c\": 2.27361068, \"18:1 c\": 40.16795064000001, \"18:2 n-6 c,c\": 5.12461608, \"22:1 c\": 0.0, \"18:3 n-6 c,c,c\": 0.0, \"Fatty acids, total trans-monoenoic\": 0.0, \"Fatty acids, total trans-polyenoic\": 0.0, \"18:3 n-3 c,c,c (ALA)\": 0.7453422000000001, \"20:3 n-3\": 0.0, \"20:3 n-6\": 0.0, \"22:4\": 0.0, \"Dihydrophylloquinone\": 0.0, \"Fluoride, F\": 6.744464000000001, \"Vitamin D2 (ergocalciferol)\": 0.0, \"18:2 i\": 0.70030048}, \"igd_list\": [{\"name\": \"buttermilk\", \"amount\": 473.176, \"unit\": \"grams\"}, {\"name\": \"blanched almonds\", \"amount\": 118.294, \"unit\": \"grams\"}, {\"name\": \"creole seasoning\", \"amount\": 2.0, \"unit\": \"tbsp\"}, {\"name\": \"white flour\", \"amount\": 473.176, \"unit\": \"grams\"}, {\"name\": \"lemon juice\", \"amount\": 1.0, \"unit\": \"\"}, {\"name\": \"olive oil\", \"amount\": 6.0, \"unit\": \"servings\"}, {\"name\": \"fresh parsley\", \"amount\": 1.0, \"unit\": \"tbsp\"}, {\"name\": \"salt\", \"amount\": 6.0, \"unit\": \"servings\"}, {\"name\": \"trout filet\", \"amount\": 6.0, \"unit\": \"fillets\"}, {\"name\": \"unsalted butter\", \"amount\": 236.588, \"unit\": \"grams\"}]}'"
      ]
     },
     "execution_count": 11,
     "metadata": {},
     "output_type": "execute_result"
    }
   ],
   "source": [
    "json.dumps(a)"
   ]
  },
  {
   "cell_type": "code",
   "execution_count": 12,
   "metadata": {},
   "outputs": [
    {
     "data": {
      "text/plain": [
       "{'id': 1933,\n",
       " 'title': \"John Besh's Louisiana Speckled Trout Amandine\",\n",
       " 'instructions': \"Preheat oven to 350 F.To a cast iron or heavy bottomed pan over medium heat, add 1/2 inch olive oil.Season trout fillets with salt, pepper, and Creole seasoning. Dredge trout in flour and shake off excess. Then place trout in buttermilk, and again in flour; shake off excess. Place fish in pan with hot oil and cook on both sides until completely brown, about 5-7 minutes per side. If trout are thick and not completely cooked throughout, finish them in preheated oven, cooking for a few minutes.To another saut pan over medium-high heat, add butter. When butter has completely melted and begins to brown slightly on the sides, add almonds, lemon juice, and parsley. Continue to move butter around in pan until almonds have browned, about 3-4 minutes. Season sauce with salt and remove from heat.Place each trout fillet on a plate and spoon amandine sauce liberally over top.* Chef Besh recommends Paul Prudhomme's or Zatarain's Seasonings.\",\n",
       " 'vegetarian': False,\n",
       " 'glutenFree': False,\n",
       " 'dairyFree': False,\n",
       " 'sourceUrl': 'http://www.thekitchn.com/new-orleans-roundup-john-beshs-48567',\n",
       " 'pricePerServing': 501.3,\n",
       " 'readyInMinutes': 23,\n",
       " 'servings': 6.0,\n",
       " 'image': 'https://spoonacular.com/recipeImages/1933-556x370.jpg',\n",
       " 'nutrition': {'Protein': 191.2331644,\n",
       "  'Total lipid (fat)': 313.518226,\n",
       "  'Carbohydrate, by difference': 412.71135700000013,\n",
       "  'Ash': 21.356548600000004,\n",
       "  'Energy': 26955.088440000003,\n",
       "  'Alcohol, ethyl': 0.0,\n",
       "  'Water': 863.8027274000001,\n",
       "  'Caffeine': 0.0,\n",
       "  'Theobromine': 0.0,\n",
       "  'Sugars, total': 31.141069,\n",
       "  'Fiber, total dietary': 27.498458000000003,\n",
       "  'Calcium, Ca': 1177.39576,\n",
       "  'Iron, Fe': 34.25128,\n",
       "  'Magnesium, Mg': 595.5880000000001,\n",
       "  'Phosphorus, P': 2733.64694,\n",
       "  'Potassium, K': 3928.6705000000006,\n",
       "  'Sodium, Na': 3132.19686,\n",
       "  'Zinc, Zn': 12.275001800000004,\n",
       "  'Copper, Cu': 2.9906808999999996,\n",
       "  'Manganese, Mn': 9.68408578,\n",
       "  'Selenium, Se': 244.733064,\n",
       "  'Vitamin A, IU': 11702.367100000001,\n",
       "  'Retinol': 1885.7464400000001,\n",
       "  'Vitamin A, RAE': 2157.8186400000004,\n",
       "  'Carotene, beta': 2918.7651200000005,\n",
       "  'Carotene, alpha': 0.0,\n",
       "  'Vitamin E (alpha-tocopherol)': 39.19977540000001,\n",
       "  'Vitamin D': 980.75152,\n",
       "  'Vitamin D3 (cholecalciferol)': 24.637288,\n",
       "  'Vitamin D (D2 + D3)': 24.637288,\n",
       "  'Cryptoxanthin, beta': 662.752,\n",
       "  'Lycopene': 0.0,\n",
       "  'Lutein + zeaxanthin': 1692.46462,\n",
       "  'Vitamin C, total ascorbic acid': 15.909400000000002,\n",
       "  'Thiamin': 5.871871260000001,\n",
       "  'Riboflavin': 5.73835042,\n",
       "  'Niacin': 54.9049364,\n",
       "  'Pantothenic acid': 13.71437964,\n",
       "  'Vitamin B-6': 1.73325654,\n",
       "  'Folate, total': 1033.46458,\n",
       "  'Vitamin B-12': 39.50340920000001,\n",
       "  'Choline, total': 538.5181180000001,\n",
       "  'Vitamin K (phylloquinone)': 94.318016,\n",
       "  'Folic acid': 728.69104,\n",
       "  'Folate, food': 304.77354,\n",
       "  'Folate, DFE': 1544.4946600000003,\n",
       "  'Tryptophan': 2.1577636600000005,\n",
       "  'Threonine': 7.197320200000001,\n",
       "  'Isoleucine': 7.9593606,\n",
       "  'Leucine': 14.75281294,\n",
       "  'Lysine': 12.27193538,\n",
       "  'Methionine': 4.454518,\n",
       "  'Cystine': 2.5433246400000002,\n",
       "  'Phenylalanine': 8.560117080000001,\n",
       "  'Tyrosine': 6.29621834,\n",
       "  'Valine': 9.122807860000002,\n",
       "  'Arginine': 11.315504140000002,\n",
       "  'Histidine': 5.205191,\n",
       "  'Alanine': 9.3026555,\n",
       "  'Aspartic acid': 16.85838586,\n",
       "  'Glutamic acid': 41.15636628,\n",
       "  'Glycine': 8.58057676,\n",
       "  'Proline': 12.00323906,\n",
       "  'Serine': 8.6807316,\n",
       "  'Vitamin E, added': 0.0,\n",
       "  'Vitamin B-12, added': 0.0,\n",
       "  'Cholesterol': 835.6335600000001,\n",
       "  'Fatty acids, total saturated': 140.47182818000002,\n",
       "  '4:0': 7.99194264,\n",
       "  '6:0': 5.107934920000001,\n",
       "  '8:0': 3.17501096,\n",
       "  '10:0': 6.346304280000001,\n",
       "  '12:0': 6.492798840000001,\n",
       "  '14:0': 19.9084392,\n",
       "  '16:0': 64.6921389,\n",
       "  '18:0': 27.105039440000002,\n",
       "  '20:0': 0.35133144000000005,\n",
       "  '18:1 undifferentiated': 103.13821886,\n",
       "  '18:2 undifferentiated': 23.620976380000002,\n",
       "  '18:3 undifferentiated': 4.11089664,\n",
       "  '20:4 undifferentiated': 0.8958600000000001,\n",
       "  '22:6 n-3 (DHA)': 2.50272,\n",
       "  '22:0': 0.00774,\n",
       "  '14:1': 2e-05,\n",
       "  '16:1 undifferentiated': 8.01714002,\n",
       "  '18:4': 0.30336,\n",
       "  '20:1': 1.582448,\n",
       "  '20:5 n-3 (EPA)': 0.9574800000000001,\n",
       "  '22:1 undifferentiated': 3.9342,\n",
       "  '22:5 n-3 (DPA)': 0.86742,\n",
       "  'Fatty acids, total monounsaturated': 119.38972713999999,\n",
       "  'Fatty acids, total polyunsaturated': 33.27178808000001,\n",
       "  '15:0': 1e-05,\n",
       "  '17:0': 1.3427739600000002,\n",
       "  '24:0': 0.0,\n",
       "  '13:0': 0.0,\n",
       "  'Starch': 1.18294,\n",
       "  'Sucrose': 5.2802124,\n",
       "  'Glucose (dextrose)': 0.045388200000000004,\n",
       "  'Fructose': 0.011000000000000001,\n",
       "  'Lactose': 0.0,\n",
       "  'Maltose': 0.16561160000000003,\n",
       "  'Galactose': 0.0,\n",
       "  'Tocopherol, beta': 0.7518522000000002,\n",
       "  'Tocopherol, gamma': 2.6487492,\n",
       "  'Tocopherol, delta': 0.33122320000000005,\n",
       "  'Fatty acids, total trans': 0.02247586,\n",
       "  'Phytosterols': 157.10316,\n",
       "  'Stigmasterol': 1.18294,\n",
       "  'Campesterol': 4.73176,\n",
       "  'Beta-sitosterol': 138.40398,\n",
       "  '24:1 c': 0.0,\n",
       "  '20:2 n-6 c,c': 0.0,\n",
       "  '17:1': 0.07729346000000001,\n",
       "  '20:3 undifferentiated': 0.0,\n",
       "  '15:1': 0.0,\n",
       "  'Tocotrienol, alpha': 0.09463520000000002,\n",
       "  'Tocotrienol, beta': 0.4258584,\n",
       "  'Tocotrienol, gamma': 0.0,\n",
       "  'Tocotrienol, delta': 0.0,\n",
       "  'Betaine': 332.648728,\n",
       "  '16:1 t': 0.0,\n",
       "  '18:1 t': 7.055054160000001,\n",
       "  '22:1 t': 0.0,\n",
       "  '18:2 t not further defined': 0.0,\n",
       "  '18:2 CLAs': 0.6316899600000001,\n",
       "  '16:1 c': 2.27361068,\n",
       "  '18:1 c': 40.16795064000001,\n",
       "  '18:2 n-6 c,c': 5.12461608,\n",
       "  '22:1 c': 0.0,\n",
       "  '18:3 n-6 c,c,c': 0.0,\n",
       "  'Fatty acids, total trans-monoenoic': 0.0,\n",
       "  'Fatty acids, total trans-polyenoic': 0.0,\n",
       "  '18:3 n-3 c,c,c (ALA)': 0.7453422000000001,\n",
       "  '20:3 n-3': 0.0,\n",
       "  '20:3 n-6': 0.0,\n",
       "  '22:4': 0.0,\n",
       "  'Dihydrophylloquinone': 0.0,\n",
       "  'Fluoride, F': 6.744464000000001,\n",
       "  'Vitamin D2 (ergocalciferol)': 0.0,\n",
       "  '18:2 i': 0.70030048},\n",
       " 'igd_list': [{'name': 'buttermilk', 'amount': 473.176, 'unit': 'grams'},\n",
       "  {'name': 'blanched almonds', 'amount': 118.294, 'unit': 'grams'},\n",
       "  {'name': 'creole seasoning', 'amount': 2.0, 'unit': 'tbsp'},\n",
       "  {'name': 'white flour', 'amount': 473.176, 'unit': 'grams'},\n",
       "  {'name': 'lemon juice', 'amount': 1.0, 'unit': ''},\n",
       "  {'name': 'olive oil', 'amount': 6.0, 'unit': 'servings'},\n",
       "  {'name': 'fresh parsley', 'amount': 1.0, 'unit': 'tbsp'},\n",
       "  {'name': 'salt', 'amount': 6.0, 'unit': 'servings'},\n",
       "  {'name': 'trout filet', 'amount': 6.0, 'unit': 'fillets'},\n",
       "  {'name': 'unsalted butter', 'amount': 236.588, 'unit': 'grams'}]}"
      ]
     },
     "execution_count": 12,
     "metadata": {},
     "output_type": "execute_result"
    }
   ],
   "source": [
    "a"
   ]
  },
  {
   "cell_type": "code",
   "execution_count": null,
   "metadata": {},
   "outputs": [],
   "source": [
    "    def get_nutrition(self):\n",
    "        value_dict={}\n",
    "        #unit_dict={}\n",
    "        for assoc in self.association:    \n",
    "            amount = assoc.amount *(1.0/100.0)\n",
    "            if assoc.unit != 'grams':\n",
    "                multiplier = 0\n",
    "                for weight in assoc.ingredient.weights:\n",
    "                    if assoc.unit == weight.msre_unit:\n",
    "                        multiplier = weight.grams / weight.amount\n",
    "                if multiplier == 0:\n",
    "                    # set some kind of default value\n",
    "                    multiplier = 1\n",
    "                amount = amount * multiplier\n",
    "            for nd in assoc.ingredient.nutrient_data:\n",
    "                value_dict[nd.nutrient_obj.name] = value_dict.get(nd.nutrient_obj.name, 0.0) + (amount*nd.amount)\n",
    "                #unit_dict[nd.nutrient_obj.name] = unit_dict.get(nd.nutrient_obj.name, nd.nutrient_obj.units) \n",
    "        return value_dict #, unit_dict"
   ]
  },
  {
   "cell_type": "code",
   "execution_count": null,
   "metadata": {},
   "outputs": [],
   "source": [
    "\n",
    "        value_dict={}\n",
    "        #unit_dict={}\n",
    "        for assoc in self.association:    \n",
    "            amount = assoc.amount *(1.0/100.0)\n",
    "            if assoc.unit != 'grams':\n",
    "                multiplier = 0\n",
    "                for weight in assoc.ingredient.weights:\n",
    "                    if assoc.unit == weight.msre_unit:\n",
    "                        multiplier = weight.grams / weight.amount\n",
    "                if multiplier == 0:\n",
    "                    # set some kind of default value\n",
    "                    multiplier = 1\n",
    "                amount = amount * multiplier\n",
    "            for nd in assoc.ingredient.nutrient_data:\n",
    "                value_dict[nd.nutrient_obj.name] = value_dict.get(nd.nutrient_obj.name, 0.0) + (amount*nd.amount)\n",
    "                #unit_dict[nd.nutrient_obj.name] = unit_dict.get(nd.nutrient_obj.name, nd.nutrient_obj.units) \n",
    "        return value_dict #, unit_dict"
   ]
  },
  {
   "cell_type": "code",
   "execution_count": 2,
   "metadata": {},
   "outputs": [],
   "source": [
    "r1=Recipe.query.all()[0]"
   ]
  },
  {
   "cell_type": "code",
   "execution_count": 9,
   "metadata": {},
   "outputs": [],
   "source": [
    "a1 = r1.association[0]"
   ]
  },
  {
   "cell_type": "code",
   "execution_count": 11,
   "metadata": {},
   "outputs": [
    {
     "data": {
      "text/plain": [
       "{'_sa_instance_state': <sqlalchemy.orm.state.InstanceState at 0x7fe2d0466a20>,\n",
       " 'amount': 473.176,\n",
       " 'recipe_id': 1933,\n",
       " 'unit': 'grams',\n",
       " 'ingredient_id': 1230,\n",
       " 'id': 2961,\n",
       " 'ingredient': <Ingredient 1230>}"
      ]
     },
     "execution_count": 11,
     "metadata": {},
     "output_type": "execute_result"
    }
   ],
   "source": [
    "a1.__dict__"
   ]
  },
  {
   "cell_type": "code",
   "execution_count": 12,
   "metadata": {},
   "outputs": [
    {
     "data": {
      "text/plain": [
       "'buttermilk'"
      ]
     },
     "execution_count": 12,
     "metadata": {},
     "output_type": "execute_result"
    }
   ],
   "source": [
    "a1.ingredient.name"
   ]
  },
  {
   "cell_type": "code",
   "execution_count": 4,
   "metadata": {},
   "outputs": [
    {
     "data": {
      "text/plain": [
       "[{'name': 'buttermilk', 'amount': 473.176, 'unit': 'grams'},\n",
       " {'name': 'blanched almonds', 'amount': 118.294, 'unit': 'grams'},\n",
       " {'name': 'creole seasoning', 'amount': 2.0, 'unit': 'tbsp'},\n",
       " {'name': 'white flour', 'amount': 473.176, 'unit': 'grams'},\n",
       " {'name': 'lemon juice', 'amount': 1.0, 'unit': ''},\n",
       " {'name': 'olive oil', 'amount': 6.0, 'unit': 'servings'},\n",
       " {'name': 'fresh parsley', 'amount': 1.0, 'unit': 'tbsp'},\n",
       " {'name': 'salt', 'amount': 6.0, 'unit': 'servings'},\n",
       " {'name': 'trout filet', 'amount': 6.0, 'unit': 'fillets'},\n",
       " {'name': 'unsalted butter', 'amount': 236.588, 'unit': 'grams'}]"
      ]
     },
     "execution_count": 4,
     "metadata": {},
     "output_type": "execute_result"
    }
   ],
   "source": [
    "r1.get_igd_list()"
   ]
  },
  {
   "cell_type": "code",
   "execution_count": 5,
   "metadata": {},
   "outputs": [
    {
     "data": {
      "text/plain": [
       "\"John Besh's Louisiana Speckled Trout Amandine\""
      ]
     },
     "execution_count": 5,
     "metadata": {},
     "output_type": "execute_result"
    }
   ],
   "source": [
    "r1.title"
   ]
  },
  {
   "cell_type": "code",
   "execution_count": null,
   "metadata": {},
   "outputs": [],
   "source": [
    "    def get_igd_list(self):\n",
    "        igd_list = []\n",
    "        for assoc in self.association:\n",
    "            igd = {\n",
    "                'name':assoc.ingredient.name,\n",
    "                'amount':assoc.amount,\n",
    "                'unit':assoc.unit\n",
    "            }\n",
    "            igd_list.append(igd)\n",
    "        return igd_list\n",
    "    def to_json(self):\n",
    "        my_dict = {\n",
    "            'id':self.id,\n",
    "            'title':self.title ,\n",
    "            'instructions':self.instructions,\n",
    "            'vegetarian':self.vegetarian,\n",
    "            'glutenFree':self.glutenFree,\n",
    "            'dairyFree':self.dairyFree,\n",
    "            'sourceUrl':self.sourceUrl,\n",
    "            'pricePerServing':self.pricePerServing,\n",
    "            'readyInMinutes':self.readyInMinutes,\n",
    "            'servings':self.servings,\n",
    "            'image':self.image,\n",
    "            'nutrition':self.get_nutrition(),\n",
    "            'igd_list':self.get_igd_list()\n",
    "        }"
   ]
  }
 ],
 "metadata": {
  "kernelspec": {
   "display_name": "Python 3",
   "language": "python",
   "name": "python3"
  },
  "language_info": {
   "codemirror_mode": {
    "name": "ipython",
    "version": 3
   },
   "file_extension": ".py",
   "mimetype": "text/x-python",
   "name": "python",
   "nbconvert_exporter": "python",
   "pygments_lexer": "ipython3",
   "version": "3.7.1"
  }
 },
 "nbformat": 4,
 "nbformat_minor": 2
}
