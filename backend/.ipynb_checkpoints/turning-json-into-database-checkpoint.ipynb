{
 "cells": [
  {
   "cell_type": "code",
   "execution_count": 6,
   "metadata": {},
   "outputs": [],
   "source": [
    "import json\n",
    "#import pdir\n",
    "#import pandas as pd\n",
    "#import numpy as np\n",
    "#import matplotlib.pyplot as plt\n",
    "import ijson"
   ]
  },
  {
   "cell_type": "code",
   "execution_count": null,
   "metadata": {},
   "outputs": [],
   "source": [
    "def trim_recipe(recipe):\n",
    "    column_tuple = (\n",
    "        'id',\n",
    "        'title',\n",
    "        'image',\n",
    "        'vegetarian',\n",
    "        'glutenFree',\n",
    "        'dairyFree',\n",
    "        'sourceUrl',\n",
    "        'pricePerServing',\n",
    "        'readyInMinutes',\n",
    "        'servings',\n",
    "        ''\n",
    "        )\n",
    "    return_list = []\n",
    "    for col in column_tuple:\n",
    "        return_list.append(recipe[col])\n",
    "    return return_list\n",
    "\n",
    "#####################################################################\n",
    "\n",
    "filenamelist = [\n",
    "    #'100recipes01.json',\n",
    "    #'100recipes02.json',\n",
    "    #'100recipes03.json',\n",
    "    #'100recipes04.json',\n",
    "    #'100recipes05.json',\n",
    "    '100recipes06.json'\n",
    "]\n",
    "\n",
    "recipe_table=[]\n",
    "\n",
    "data = []\n",
    "all_igdlist = []\n",
    "all_idlist=[]\n",
    "rec_igd_junction=[]\n",
    "\n",
    "for filename in filenamelist:\n",
    "    with open(filename, 'r') as f:\n",
    "        objects = ijson.items(f, 'recipes.item')\n",
    "        for row in objects:\n",
    "            for igd in row['extendedIngredients']:\n",
    "                all_igdlist.append({\"sp_id\":igd['id'], \"name\":igd['name']})\n",
    "                all_idlist.append(igd['id'])\n",
    "                rec_igd_junction.append((row['id'], igd['id'], igd['amount'], igd['unit'], igd['measures']))\n",
    "            #newdict = {k:row[k] for k in good_columns if k in row}\n",
    "            #newdict = row['id']\n",
    "            #data.append(newdict)"
   ]
  },
  {
   "cell_type": "code",
   "execution_count": null,
   "metadata": {},
   "outputs": [],
   "source": [
    "def get_igdlist_from_rcp(rcp):\n",
    "    igdlist = []\n",
    "    for igd in rcp['extendedIngredients']:\n",
    "        igdlist.append({\"sp_id\":igd['id'], \"name\":igd['name']})\n",
    "    return igdlist\n",
    "\n",
    "def get_all_igdlist_from_rcplist(rcplist):\n",
    "    for rcp in rcplist:\n",
    "        all_igdlist = all_igdlist + get_igdlist_from_rcp(rcp)\n",
    "    return all_igdlist "
   ]
  },
  {
   "cell_type": "code",
   "execution_count": null,
   "metadata": {},
   "outputs": [],
   "source": [
    "filename = '100recipes01.json'\n",
    "#Read JSON data into the datastore variable\n",
    "if filename:\n",
    "    with open(filename, 'r') as f:\n",
    "        datastore = json.load(f)"
   ]
  },
  {
   "cell_type": "code",
   "execution_count": null,
   "metadata": {},
   "outputs": [],
   "source": [
    "import sqlite3\n",
    "\n",
    "conn = sqlite3.connect(\"nutrients.db\")\n",
    "df = pd.read_sql_query(\"select * from food_des;\", conn)\n",
    "df"
   ]
  },
  {
   "cell_type": "code",
   "execution_count": null,
   "metadata": {},
   "outputs": [],
   "source": []
  },
  {
   "cell_type": "code",
   "execution_count": null,
   "metadata": {},
   "outputs": [],
   "source": []
  },
  {
   "cell_type": "code",
   "execution_count": null,
   "metadata": {},
   "outputs": [],
   "source": []
  },
  {
   "cell_type": "code",
   "execution_count": 44,
   "metadata": {},
   "outputs": [],
   "source": [
    " "
   ]
  },
  {
   "cell_type": "code",
   "execution_count": null,
   "metadata": {},
   "outputs": [],
   "source": []
  },
  {
   "cell_type": "code",
   "execution_count": 2,
   "metadata": {},
   "outputs": [],
   "source": []
  },
  {
   "cell_type": "code",
   "execution_count": null,
   "metadata": {},
   "outputs": [],
   "source": []
  }
 ],
 "metadata": {
  "kernelspec": {
   "display_name": "Python 3",
   "language": "python",
   "name": "python3"
  },
  "language_info": {
   "codemirror_mode": {
    "name": "ipython",
    "version": 3
   },
   "file_extension": ".py",
   "mimetype": "text/x-python",
   "name": "python",
   "nbconvert_exporter": "python",
   "pygments_lexer": "ipython3",
   "version": "3.7.1"
  }
 },
 "nbformat": 4,
 "nbformat_minor": 2
}
